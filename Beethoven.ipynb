{
 "cells": [
  {
   "cell_type": "markdown",
   "metadata": {
    "slideshow": {
     "slide_type": "slide"
    }
   },
   "source": [
    "# Beethoven's Fifth....in Pyknon"
   ]
  },
  {
   "cell_type": "markdown",
   "metadata": {
    "slideshow": {
     "slide_type": "slide"
    }
   },
   "source": [
    "Objective:\n",
    "\n",
    "Using Pyknon, recreate the first 10 measures of Beethoven's Fifth."
   ]
  },
  {
   "cell_type": "markdown",
   "metadata": {
    "slideshow": {
     "slide_type": "slide"
    }
   },
   "source": [
    "Process:\n",
    "\n",
    "1. Spyder\n",
    "2. Jupyter\n",
    "3. Try to make code cleaner.\n",
    "4. Clean code doesn't look so clean.\n",
    "5. Back to Spyder\n",
    "6. Tracks on tracks on tracks\n",
    "7. Notation Viewer\n",
    "8. Trial and Error\n",
    "9. MISSION ACCOMPLISHED!"
   ]
  },
  {
   "cell_type": "markdown",
   "metadata": {
    "slideshow": {
     "slide_type": "slide"
    }
   },
   "source": [
    "Obstacles:\n",
    "\n",
    "1. Music\n",
    "2. Programming\n",
    "3. Rests breaking code (need dur in tracks?)\n",
    "4. Hearing but not seeing results"
   ]
  },
  {
   "cell_type": "markdown",
   "metadata": {
    "slideshow": {
     "slide_type": "slide"
    }
   },
   "source": [
    "Solutions to Obstacles:\n",
    "\n",
    "1. Lisa for music (Thanks!)\n",
    "2. Use what you know. Documentation!!\n",
    "3. Don't get frustrated, try everything.\n",
    "4. Resourcefulness, notation viewer! :)"
   ]
  },
  {
   "cell_type": "code",
   "execution_count": 104,
   "metadata": {
    "collapsed": true,
    "scrolled": true,
    "slideshow": {
     "slide_type": "slide"
    }
   },
   "outputs": [],
   "source": [
    "from pyknon.genmidi import Midi\n",
    "from pyknon.music import NoteSeq\n",
    "from pyknon.music import Note\n",
    "from pyknon.music import Rest\n",
    "\n",
    "a = NoteSeq(\"R8 G8 G8 G8\")\n",
    "b = NoteSeq(\"R8 F8 F8 F8\")\n",
    "c = NoteSeq([Note(3, dur=1)])\n",
    "d = NoteSeq([Note(2, dur=1)])\n",
    "e = NoteSeq(\"R8 Ab8 Ab8 Ab8\")\n",
    "f = NoteSeq(\"R8 Eb8'' Eb8'' Eb8''\")\n",
    "g = NoteSeq([Note(7, dur=0.75)])\n",
    "h = NoteSeq([Note(0, dur=1)])\n",
    "i = NoteSeq(\"G8 G8 G8 G8\")\n",
    "j = NoteSeq([Note(0, dur=0.5)])\n",
    "k = NoteSeq([Note(7, dur=0.5)])\n",
    "\n",
    "track3 = NoteSeq([Note(0, octave=6, dur=1)])\n",
    "track4 = NoteSeq([Note(3, dur=1), Note(3, dur=1)])\n",
    "\n",
    "bass = NoteSeq(\"G8,, G8,, G8,,\")\n",
    "bass2 = NoteSeq([Note(3, octave=3, dur=1)])\n",
    "\n",
    "notes1 = a + c + b + d + a + e + f + h + j + Rest(dur=0.5)\n",
    "notes2 = Rest(dur=4.0) + k + g + i\n",
    "notes3 = Rest(dur=4.5) + track3\n",
    "notes4 = Rest(dur=3.5) + track4\n",
    "notes5 = Rest(dur=0.125) + bass + bass2 + Rest(dur=0.125) + bass + bass2\n",
    "\n",
    "midi = Midi(number_tracks=5, tempo=108)\n",
    "midi.seq_notes(notes1, track=0)\n",
    "midi.seq_notes(notes2, track=1)\n",
    "midi.seq_notes(notes3, track=2)\n",
    "midi.seq_notes(notes4, track=3)\n",
    "midi.seq_notes(notes5, track=4)\n",
    "midi.write(\"fifth11.mid\")"
   ]
  },
  {
   "cell_type": "code",
   "execution_count": null,
   "metadata": {
    "collapsed": true,
    "scrolled": true,
    "slideshow": {
     "slide_type": "slide"
    }
   },
   "outputs": [],
   "source": []
  }
 ],
 "metadata": {
  "celltoolbar": "Slideshow",
  "kernelspec": {
   "display_name": "Python 3",
   "language": "python",
   "name": "python3"
  },
  "language_info": {
   "codemirror_mode": {
    "name": "ipython",
    "version": 3
   },
   "file_extension": ".py",
   "mimetype": "text/x-python",
   "name": "python",
   "nbconvert_exporter": "python",
   "pygments_lexer": "ipython3",
   "version": "3.6.3"
  }
 },
 "nbformat": 4,
 "nbformat_minor": 2
}
